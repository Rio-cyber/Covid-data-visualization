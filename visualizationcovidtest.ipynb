{
 "cells": [
  {
   "cell_type": "code",
   "execution_count": 1,
   "metadata": {},
   "outputs": [],
   "source": [
    "import pandas as pd\n",
    "import matplotlib.pyplot as plt"
   ]
  },
  {
   "cell_type": "code",
   "execution_count": 11,
   "metadata": {},
   "outputs": [],
   "source": [
    "data=pd.read_excel(\"C:/Users/Rhea/Desktop/Covidtest(AutoRecovered).xlsx\")"
   ]
  },
  {
   "cell_type": "code",
   "execution_count": 12,
   "metadata": {},
   "outputs": [
    {
     "data": {
      "text/html": [
       "<div>\n",
       "<style scoped>\n",
       "    .dataframe tbody tr th:only-of-type {\n",
       "        vertical-align: middle;\n",
       "    }\n",
       "\n",
       "    .dataframe tbody tr th {\n",
       "        vertical-align: top;\n",
       "    }\n",
       "\n",
       "    .dataframe thead th {\n",
       "        text-align: right;\n",
       "    }\n",
       "</style>\n",
       "<table border=\"1\" class=\"dataframe\">\n",
       "  <thead>\n",
       "    <tr style=\"text-align: right;\">\n",
       "      <th></th>\n",
       "      <th>User Language</th>\n",
       "      <th>What sector do you work for?</th>\n",
       "      <th>Please select your age group</th>\n",
       "      <th>Please select the gender you most commonly identify with: - Selected Choice</th>\n",
       "      <th>Please select the gender you most commonly identify with: - Prefer to self-describe - Text</th>\n",
       "      <th>What race or ethnic background do you most commonly identify with:</th>\n",
       "      <th>In the last 14 days, have you: - Provided care to someone diagnosed with COVID-19</th>\n",
       "      <th>In the last 14 days, have you: - Learned that  a close contact has received a positive COVID-19 test?</th>\n",
       "      <th>In the last 14 days, have you: - Been in contact with a known carrier of COVID-19?</th>\n",
       "      <th>In the last 14 days, have you: - Engaged in any travel outside of Windsor-Essex?</th>\n",
       "      <th>...</th>\n",
       "      <th>For the Healthcare Provider conducting the test: - Is the IgM line visible?</th>\n",
       "      <th>For the Healthcare Provider conducting the test: - Is the IgG line visible?</th>\n",
       "      <th>Date of  Antibody Test (mm/dd/yyyy)</th>\n",
       "      <th>COVID Symptom Score</th>\n",
       "      <th>For the Healthcare Provider conducting the Antigen Test - Is the control line visible?</th>\n",
       "      <th>For the Healthcare Provider conducting the test: - Is the Test line Visible ?</th>\n",
       "      <th>For the Healthcare Provider conducting the test: - Is the Test Positive or Negative  ?</th>\n",
       "      <th>Date of Saliva Test (mm/dd/yyyy)</th>\n",
       "      <th>Is the Test Positive or Negative  ?</th>\n",
       "      <th>(mm/dd/yyyy)</th>\n",
       "    </tr>\n",
       "  </thead>\n",
       "  <tbody>\n",
       "    <tr>\n",
       "      <td>0</td>\n",
       "      <td>EN</td>\n",
       "      <td>Health care and social assistance</td>\n",
       "      <td>45 - 54</td>\n",
       "      <td>Female</td>\n",
       "      <td>NaN</td>\n",
       "      <td>White</td>\n",
       "      <td>Yes</td>\n",
       "      <td>No</td>\n",
       "      <td>No</td>\n",
       "      <td>No</td>\n",
       "      <td>...</td>\n",
       "      <td>No</td>\n",
       "      <td>No</td>\n",
       "      <td>06/01/2020</td>\n",
       "      <td>15</td>\n",
       "      <td>Yes</td>\n",
       "      <td>No</td>\n",
       "      <td>Negative</td>\n",
       "      <td>06/01/2020</td>\n",
       "      <td>Negative</td>\n",
       "      <td>06/01/2020</td>\n",
       "    </tr>\n",
       "    <tr>\n",
       "      <td>1</td>\n",
       "      <td>EN</td>\n",
       "      <td>Health care and social assistance</td>\n",
       "      <td>45 - 54</td>\n",
       "      <td>Female</td>\n",
       "      <td>NaN</td>\n",
       "      <td>White</td>\n",
       "      <td>No</td>\n",
       "      <td>No</td>\n",
       "      <td>No</td>\n",
       "      <td>Yes</td>\n",
       "      <td>...</td>\n",
       "      <td>No</td>\n",
       "      <td>No</td>\n",
       "      <td>09/03/2020</td>\n",
       "      <td>38</td>\n",
       "      <td>Yes</td>\n",
       "      <td>No</td>\n",
       "      <td>Negative</td>\n",
       "      <td>09/03/2020</td>\n",
       "      <td>Negative</td>\n",
       "      <td>09/03/2020</td>\n",
       "    </tr>\n",
       "    <tr>\n",
       "      <td>2</td>\n",
       "      <td>EN</td>\n",
       "      <td>Other</td>\n",
       "      <td>55 - 64</td>\n",
       "      <td>Female</td>\n",
       "      <td>NaN</td>\n",
       "      <td>White</td>\n",
       "      <td>No</td>\n",
       "      <td>No</td>\n",
       "      <td>No</td>\n",
       "      <td>No</td>\n",
       "      <td>...</td>\n",
       "      <td>NaN</td>\n",
       "      <td>NaN</td>\n",
       "      <td>08/03/2020</td>\n",
       "      <td>27</td>\n",
       "      <td>Yes</td>\n",
       "      <td>NaN</td>\n",
       "      <td>Negative</td>\n",
       "      <td>08/03/2020</td>\n",
       "      <td>Negative</td>\n",
       "      <td>08/03/2020</td>\n",
       "    </tr>\n",
       "    <tr>\n",
       "      <td>3</td>\n",
       "      <td>EN</td>\n",
       "      <td>Educational services</td>\n",
       "      <td>45 - 54</td>\n",
       "      <td>Male</td>\n",
       "      <td>NaN</td>\n",
       "      <td>White</td>\n",
       "      <td>No</td>\n",
       "      <td>No</td>\n",
       "      <td>No</td>\n",
       "      <td>No</td>\n",
       "      <td>...</td>\n",
       "      <td>No</td>\n",
       "      <td>No</td>\n",
       "      <td>06/01/2020</td>\n",
       "      <td>15</td>\n",
       "      <td>Yes</td>\n",
       "      <td>No</td>\n",
       "      <td>Negative</td>\n",
       "      <td>06/01/2020</td>\n",
       "      <td>Negative</td>\n",
       "      <td>06/01/2020</td>\n",
       "    </tr>\n",
       "    <tr>\n",
       "      <td>4</td>\n",
       "      <td>EN</td>\n",
       "      <td>Health care and social assistance</td>\n",
       "      <td>Under 18</td>\n",
       "      <td>Female</td>\n",
       "      <td>NaN</td>\n",
       "      <td>White</td>\n",
       "      <td>No</td>\n",
       "      <td>No</td>\n",
       "      <td>No</td>\n",
       "      <td>Yes</td>\n",
       "      <td>...</td>\n",
       "      <td>No</td>\n",
       "      <td>No</td>\n",
       "      <td>06/01/2020</td>\n",
       "      <td>15</td>\n",
       "      <td>Yes</td>\n",
       "      <td>No</td>\n",
       "      <td>Negative</td>\n",
       "      <td>06/01/2020</td>\n",
       "      <td>Negative</td>\n",
       "      <td>06/01/2020</td>\n",
       "    </tr>\n",
       "  </tbody>\n",
       "</table>\n",
       "<p>5 rows × 40 columns</p>\n",
       "</div>"
      ],
      "text/plain": [
       "  User Language       What sector do you work for?  \\\n",
       "0            EN  Health care and social assistance   \n",
       "1            EN  Health care and social assistance   \n",
       "2            EN                              Other   \n",
       "3            EN               Educational services   \n",
       "4            EN  Health care and social assistance   \n",
       "\n",
       "  Please select your age group  \\\n",
       "0                      45 - 54   \n",
       "1                      45 - 54   \n",
       "2                      55 - 64   \n",
       "3                      45 - 54   \n",
       "4                     Under 18   \n",
       "\n",
       "  Please select the gender you most commonly identify with: - Selected Choice  \\\n",
       "0                                             Female                            \n",
       "1                                             Female                            \n",
       "2                                             Female                            \n",
       "3                                               Male                            \n",
       "4                                             Female                            \n",
       "\n",
       "   Please select the gender you most commonly identify with: - Prefer to self-describe - Text  \\\n",
       "0                                                NaN                                            \n",
       "1                                                NaN                                            \n",
       "2                                                NaN                                            \n",
       "3                                                NaN                                            \n",
       "4                                                NaN                                            \n",
       "\n",
       "  What race or ethnic background do you most commonly identify with:  \\\n",
       "0                                              White                   \n",
       "1                                              White                   \n",
       "2                                              White                   \n",
       "3                                              White                   \n",
       "4                                              White                   \n",
       "\n",
       "  In the last 14 days, have you: - Provided care to someone diagnosed with COVID-19  \\\n",
       "0                                                Yes                                  \n",
       "1                                                 No                                  \n",
       "2                                                 No                                  \n",
       "3                                                 No                                  \n",
       "4                                                 No                                  \n",
       "\n",
       "  In the last 14 days, have you: - Learned that  a close contact has received a positive COVID-19 test?  \\\n",
       "0                                                 No                                                      \n",
       "1                                                 No                                                      \n",
       "2                                                 No                                                      \n",
       "3                                                 No                                                      \n",
       "4                                                 No                                                      \n",
       "\n",
       "  In the last 14 days, have you: - Been in contact with a known carrier of COVID-19?  \\\n",
       "0                                                 No                                   \n",
       "1                                                 No                                   \n",
       "2                                                 No                                   \n",
       "3                                                 No                                   \n",
       "4                                                 No                                   \n",
       "\n",
       "  In the last 14 days, have you: - Engaged in any travel outside of Windsor-Essex?  \\\n",
       "0                                                 No                                 \n",
       "1                                                Yes                                 \n",
       "2                                                 No                                 \n",
       "3                                                 No                                 \n",
       "4                                                Yes                                 \n",
       "\n",
       "   ...  \\\n",
       "0  ...   \n",
       "1  ...   \n",
       "2  ...   \n",
       "3  ...   \n",
       "4  ...   \n",
       "\n",
       "  For the Healthcare Provider conducting the test: - Is the IgM line visible?  \\\n",
       "0                                                 No                            \n",
       "1                                                 No                            \n",
       "2                                                NaN                            \n",
       "3                                                 No                            \n",
       "4                                                 No                            \n",
       "\n",
       "  For the Healthcare Provider conducting the test: - Is the IgG line visible?  \\\n",
       "0                                                 No                            \n",
       "1                                                 No                            \n",
       "2                                                NaN                            \n",
       "3                                                 No                            \n",
       "4                                                 No                            \n",
       "\n",
       "  Date of  Antibody Test (mm/dd/yyyy) COVID Symptom Score  \\\n",
       "0                          06/01/2020                  15   \n",
       "1                          09/03/2020                  38   \n",
       "2                          08/03/2020                  27   \n",
       "3                          06/01/2020                  15   \n",
       "4                          06/01/2020                  15   \n",
       "\n",
       "  For the Healthcare Provider conducting the Antigen Test - Is the control line visible?  \\\n",
       "0                                                Yes                                       \n",
       "1                                                Yes                                       \n",
       "2                                                Yes                                       \n",
       "3                                                Yes                                       \n",
       "4                                                Yes                                       \n",
       "\n",
       "  For the Healthcare Provider conducting the test: - Is the Test line Visible ?  \\\n",
       "0                                                 No                              \n",
       "1                                                 No                              \n",
       "2                                                NaN                              \n",
       "3                                                 No                              \n",
       "4                                                 No                              \n",
       "\n",
       "  For the Healthcare Provider conducting the test: - Is the Test Positive or Negative  ?  \\\n",
       "0                                          Negative                                        \n",
       "1                                          Negative                                        \n",
       "2                                          Negative                                        \n",
       "3                                          Negative                                        \n",
       "4                                          Negative                                        \n",
       "\n",
       "  Date of Saliva Test (mm/dd/yyyy) Is the Test Positive or Negative  ?  \\\n",
       "0                       06/01/2020                           Negative    \n",
       "1                       09/03/2020                           Negative    \n",
       "2                       08/03/2020                           Negative    \n",
       "3                       06/01/2020                           Negative    \n",
       "4                       06/01/2020                           Negative    \n",
       "\n",
       "  (mm/dd/yyyy)  \n",
       "0   06/01/2020  \n",
       "1   09/03/2020  \n",
       "2   08/03/2020  \n",
       "3   06/01/2020  \n",
       "4   06/01/2020  \n",
       "\n",
       "[5 rows x 40 columns]"
      ]
     },
     "execution_count": 12,
     "metadata": {},
     "output_type": "execute_result"
    }
   ],
   "source": [
    "data.head()"
   ]
  },
  {
   "cell_type": "code",
   "execution_count": 24,
   "metadata": {},
   "outputs": [
    {
     "data": {
      "image/png": "[encoded data removed]",
      "text/plain": [
       "<Figure size 432x288 with 1 Axes>"
      ]
     },
     "metadata": {
      "needs_background": "light"
     },
     "output_type": "display_data"
    }
   ],
   "source": [
    "plt.bar( \"For the Healthcare Provider conducting the test: - Is the Test Positive or Negative ?\",\"Date of Saliva Test (mm/dd/yyyy)\", data = data, color = \"blue\")\n",
    "plt.xlabel(\"Saliva Test\")\n",
    "plt.ylabel(\"Dates of the test\")\n",
    "plt.title(\"Healthcare provider conducting the Saliva test\")\n",
    "plt.show()"
   ]
  },
  {
   "cell_type": "code",
   "execution_count": 26,
   "metadata": {},
   "outputs": [
    {
     "data": {
      "image/png": "[encoded data removed]",
      "text/plain": [
       "<Figure size 432x288 with 1 Axes>"
      ]
     },
     "metadata": {
      "needs_background": "light"
     },
     "output_type": "display_data"
    }
   ],
   "source": [
    "plt.bar( \"Please select the gender you most commonly identify with: - Selected Choice\",\"Date of Saliva Test (mm/dd/yyyy)\", data = data, color = \"red\")\n",
    "plt.xlabel(\"Gender\")\n",
    "plt.ylabel(\"Dates of the test\")\n",
    "plt.title(\"Different gender that has given test according to dates\")\n",
    "plt.show()"
   ]
  },
  {
   "cell_type": "code",
   "execution_count": 27,
   "metadata": {},
   "outputs": [
    {
     "data": {
      "image/png": "[encoded data removed]",
      "text/plain": [
       "<Figure size 432x288 with 1 Axes>"
      ]
     },
     "metadata": {
      "needs_background": "light"
     },
     "output_type": "display_data"
    }
   ],
   "source": [
    "plt.bar( \"Please select the gender you most commonly identify with: - Selected Choice\",\"COVID Symptom Score\", data = data, color = \"yellow\")\n",
    "plt.xlabel(\"Gender\")\n",
    "plt.ylabel(\"COVID Score\")\n",
    "plt.title(\"Gender who have given test with the covid score\")\n",
    "plt.show()"
   ]
  },
  {
   "cell_type": "code",
   "execution_count": 23,
   "metadata": {},
   "outputs": [
    {
     "data": {
      "image/png": "[encoded data removed]",
      "text/plain": [
       "<Figure size 432x288 with 1 Axes>"
      ]
     },
     "metadata": {
      "needs_background": "light"
     },
     "output_type": "display_data"
    }
   ],
   "source": [
    "plt.bar( \"Is the Test Positive or Negative ?\",\"(mm/dd/yyyy)\", data = data, color = \"Green\")\n",
    "plt.xlabel(\"Nasal Test\")\n",
    "plt.ylabel(\"Dates of the test\")\n",
    "plt.title(\"Results of nasal test conducted till now\")\n",
    "plt.show()"
   ]
  },
  {
   "cell_type": "code",
   "execution_count": 29,
   "metadata": {},
   "outputs": [
    {
     "data": {
      "image/png": "[encoded data removed]",
      "text/plain": [
       "<Figure size 432x288 with 1 Axes>"
      ]
     },
     "metadata": {
      "needs_background": "light"
     },
     "output_type": "display_data"
    }
   ],
   "source": [
    "plt.bar( \"For the Healthcare Provider conducting the Antigen Test - Is the control line visible?\",\"(mm/dd/yyyy)\", data = data, color = \"Violet\")\n",
    "plt.xlabel(\"Antigen Test\")\n",
    "plt.ylabel(\"Dates of the test\")\n",
    "plt.title(\"Given antigen test\")\n",
    "plt.show()"
   ]
  },
  {
   "cell_type": "code",
   "execution_count": 31,
   "metadata": {},
   "outputs": [
    {
     "data": {
      "image/png": "[encoded data removed]",
      "text/plain": [
       "<Figure size 432x288 with 1 Axes>"
      ]
     },
     "metadata": {
      "needs_background": "light"
     },
     "output_type": "display_data"
    }
   ],
   "source": [
    "plt.bar( \"For the Healthcare Provider conducting the Antibody Tes - Is the control line visible?\",\"(mm/dd/yyyy)\", data = data, color = \"Orange\")\n",
    "plt.xlabel(\"Antibody Test\")\n",
    "plt.ylabel(\"Dates of the test\")\n",
    "plt.title(\"Given antibody test\")\n",
    "plt.show()"
   ]
  },
  {
   "cell_type": "code",
   "execution_count": null,
   "metadata": {},
   "outputs": [],
   "source": []
  }
 ],
 "metadata": {
  "kernelspec": {
   "display_name": "Python 3",
   "language": "python",
   "name": "python3"
  },
  "language_info": {
   "codemirror_mode": {
    "name": "ipython",
    "version": 3
   },
   "file_extension": ".py",
   "mimetype": "text/x-python",
   "name": "python",
   "nbconvert_exporter": "python",
   "pygments_lexer": "ipython3",
   "version": "3.7.4"
  }
 },
 "nbformat": 4,
 "nbformat_minor": 2
}
